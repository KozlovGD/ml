{
 "cells": [
  {
   "cell_type": "code",
   "execution_count": 1,
   "id": "89c723e3",
   "metadata": {},
   "outputs": [],
   "source": [
    "import numpy as np\n",
    "import matplotlib.pyplot as plt\n",
    "\n",
    "\n",
    "def load_data(path='mnist.npz'): \n",
    "    with np.load(path, allow_pickle=True) as f:  # pylint: disable=unexpected-keyword-arg\n",
    "        x_train, y_train = f['x_train'], f['y_train']\n",
    "        x_test, y_test = f['x_test'], f['y_test']\n",
    "\n",
    "    return (x_train, y_train), (x_test, y_test)"
   ]
  },
  {
   "cell_type": "code",
   "execution_count": 2,
   "id": "94287c66",
   "metadata": {},
   "outputs": [
    {
     "name": "stdout",
     "output_type": "stream",
     "text": [
      "(60000, 28, 28) (60000,)\n"
     ]
    }
   ],
   "source": [
    "# файл может быть скачан по ссылке https://storage.googleapis.com/tensorflow/tf-keras-datasets/mnist.npz\n",
    "(x_train, y_train), (x_test, y_test) = load_data(path='mnist.npz')\n",
    "print(x_train.shape, y_train.shape)"
   ]
  },
  {
   "cell_type": "code",
   "execution_count": 3,
   "id": "7893bcc4",
   "metadata": {},
   "outputs": [
    {
     "name": "stdout",
     "output_type": "stream",
     "text": [
      "label is 7\n"
     ]
    },
    {
     "data": {
      "image/png": "[encoded data removed]",
      "text/plain": [
       "<Figure size 432x288 with 1 Axes>"
      ]
     },
     "metadata": {
      "needs_background": "light"
     },
     "output_type": "display_data"
    }
   ],
   "source": [
    "index = 123\n",
    "\n",
    "print('label is %d' % y_train[index])\n",
    "plt.imshow(x_train[index])\n",
    "plt.show()"
   ]
  },
  {
   "cell_type": "code",
   "execution_count": 4,
   "id": "02667f83",
   "metadata": {},
   "outputs": [],
   "source": [
    "class MyFirstClassifier(object):\n",
    "    def __init__(self):\n",
    "        pass\n",
    "    def fit(self, x_train, y_train):\n",
    "        pass\n",
    "    def predict(self, x_test):\n",
    "        return np.random.randint(low=0, size=len(x_test), high=10)\n",
    "    \n",
    "def accuracy_score(pred, gt):\n",
    "    return np.mean(pred==gt)"
   ]
  },
  {
   "cell_type": "code",
   "execution_count": 5,
   "id": "11f715d8",
   "metadata": {},
   "outputs": [
    {
     "name": "stdout",
     "output_type": "stream",
     "text": [
      "accuracy is 0.0981\n"
     ]
    }
   ],
   "source": [
    "cls = MyFirstClassifier()\n",
    "cls.fit(x_train, y_train)\n",
    "pred = cls.predict(x_test)\n",
    "\n",
    "print('accuracy is %.4f' % accuracy_score(pred, y_test))"
   ]
  },
  {
   "cell_type": "markdown",
   "id": "63fa8e5b",
   "metadata": {},
   "source": [
    "#### Задача"
   ]
  },
  {
   "cell_type": "markdown",
   "id": "66ffdfeb",
   "metadata": {},
   "source": [
    "Реализовать собственный классификатор с точностью не менее 20%"
   ]
  },
  {
   "cell_type": "code",
   "execution_count": null,
   "id": "d167a4a1",
   "metadata": {},
   "outputs": [],
   "source": []
  }
 ],
 "metadata": {
  "kernelspec": {
   "display_name": "Python 3 (ipykernel)",
   "language": "python",
   "name": "python3"
  },
  "language_info": {
   "codemirror_mode": {
    "name": "ipython",
    "version": 3
   },
   "file_extension": ".py",
   "mimetype": "text/x-python",
   "name": "python",
   "nbconvert_exporter": "python",
   "pygments_lexer": "ipython3",
   "version": "3.9.7"
  }
 },
 "nbformat": 4,
 "nbformat_minor": 5
}
